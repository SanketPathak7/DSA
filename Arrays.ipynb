{
 "cells": [
  {
   "cell_type": "markdown",
   "metadata": {},
   "source": [
    "Arrays"
   ]
  },
  {
   "cell_type": "markdown",
   "metadata": {},
   "source": []
  },
  {
   "cell_type": "code",
   "execution_count": 1,
   "metadata": {},
   "outputs": [
    {
     "data": {
      "text/plain": [
       "[5, 4, 3, 2, 1]"
      ]
     },
     "execution_count": 1,
     "metadata": {},
     "output_type": "execute_result"
    }
   ],
   "source": [
    "#Reverse the array\n",
    "\n",
    "array = [1,2,3,4,5]\n",
    "\n",
    "def reverse(arr):\n",
    "    low = 0\n",
    "    high = len(arr) - 1\n",
    "    while low < high:\n",
    "        temp = arr[low]\n",
    "        arr[low] = arr[high]\n",
    "        arr[high] = temp\n",
    "        low+=1\n",
    "        high -= 1\n",
    "    return arr\n",
    "reverse(array)"
   ]
  },
  {
   "cell_type": "code",
   "execution_count": 3,
   "metadata": {},
   "outputs": [
    {
     "data": {
      "text/plain": [
       "(234, 0)"
      ]
     },
     "execution_count": 3,
     "metadata": {},
     "output_type": "execute_result"
    }
   ],
   "source": [
    "# Finding the minimum and maximum element in an array\n",
    "\n",
    "array = [75,1,100,234,0,7]\n",
    "\n",
    "def maxmin(arr):\n",
    "    high = arr[0]\n",
    "    low = arr[0]\n",
    "    for i in range(1, len(arr)):\n",
    "        if arr[i] > high:\n",
    "            high = arr[i]\n",
    "        elif arr[i] < low:\n",
    "            low = arr[i]\n",
    "    return high, low\n",
    "maxmin(array)"
   ]
  },
  {
   "cell_type": "code",
   "execution_count": null,
   "metadata": {},
   "outputs": [],
   "source": []
  }
 ],
 "metadata": {
  "kernelspec": {
   "display_name": "base",
   "language": "python",
   "name": "python3"
  },
  "language_info": {
   "codemirror_mode": {
    "name": "ipython",
    "version": 3
   },
   "file_extension": ".py",
   "mimetype": "text/x-python",
   "name": "python",
   "nbconvert_exporter": "python",
   "pygments_lexer": "ipython3",
   "version": "3.8.3"
  }
 },
 "nbformat": 4,
 "nbformat_minor": 2
}
